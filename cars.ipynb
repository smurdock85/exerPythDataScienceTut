{
 "cells": [
  {
   "cell_type": "code",
   "execution_count": null,
   "source": [
    "index,cars_per_cap,country,drives_right\n",
    "US,809,United States,True\n",
    "AUS,731,Australia,False\n",
    "JAP,588,Japan,False\n",
    "IN,18,India,False\n",
    "RU,200,Russia,True\n",
    "MOR,70,Morocco,True\n",
    "EG,45,Egypt,True\n"
   ],
   "outputs": [],
   "metadata": {}
  }
 ],
 "metadata": {
  "orig_nbformat": 4,
  "language_info": {
   "name": "python"
  }
 },
 "nbformat": 4,
 "nbformat_minor": 2
}