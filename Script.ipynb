{
 "cells": [
  {
   "cell_type": "code",
   "execution_count": 1,
   "source": [
    "# Import pandas as pd\n",
    "import pandas as pd\n",
    "\n",
    "# Import the cars.csv data: cars\n",
    "cars = pd.read_csv('cars.csv')\n",
    "\n",
    "# Print out cars\n",
    "print(cars)"
   ],
   "outputs": [
    {
     "output_type": "stream",
     "name": "stdout",
     "text": [
      "  index  cars_per_cap        country  drives_right\n",
      "0    US           809  United States          True\n",
      "1   AUS           731      Australia         False\n",
      "2   JAP           588          Japan         False\n",
      "3    IN            18          India         False\n",
      "4    RU           200         Russia          True\n",
      "5   MOR            70        Morocco          True\n",
      "6    EG            45          Egypt          True\n"
     ]
    }
   ],
   "metadata": {}
  }
 ],
 "metadata": {
  "orig_nbformat": 4,
  "language_info": {
   "name": "python",
   "version": "3.8.8",
   "mimetype": "text/x-python",
   "codemirror_mode": {
    "name": "ipython",
    "version": 3
   },
   "pygments_lexer": "ipython3",
   "nbconvert_exporter": "python",
   "file_extension": ".py"
  },
  "kernelspec": {
   "name": "python3",
   "display_name": "Python 3.8.8 64-bit ('base': conda)"
  },
  "interpreter": {
   "hash": "77d8551fb9cf59cc84e7f8ee2c524f094c81881df7966ae554497510c52b5d47"
  }
 },
 "nbformat": 4,
 "nbformat_minor": 2
}